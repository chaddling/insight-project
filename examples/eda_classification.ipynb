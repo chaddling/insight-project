{
 "cells": [
  {
   "cell_type": "markdown",
   "metadata": {},
   "source": [
    "<b> Exploratory data analysis 2 </b>\n",
    "\n",
    "Having looked at some correlations and saw that regression strategy isn't working out, let's look at trying to classify the games into different sentiment classes (negative, mixed, positive)."
   ]
  },
  {
   "cell_type": "code",
   "execution_count": 316,
   "metadata": {},
   "outputs": [],
   "source": [
    "import pandas as pd\n",
    "import numpy as np\n",
    "import matplotlib.pyplot as plt\n",
    "import seaborn as sns\n",
    "\n",
    "from datetime import datetime, timedelta\n",
    "\n",
    "now = datetime(year=2019, month=5, day=26).timestamp()\n",
    "\n",
    "# note: mean_time is in days\n",
    "cont_vars = ['num_pre','num_post','mean_time', 'release_date','len_description', 'num_movies',\n",
    "                 'num_images','score','num_reviews','sentiment']\n",
    "cat_vars = ['is_action', 'is_adventure', 'is_casual', 'is_mmo', 'is_racing', 'is_rpg', 'is_strategy', 'is_simulation', 'is_sports']\n",
    "\n",
    "data = pd.read_csv('../data/features_vec_all.csv', usecols=cont_vars+cat_vars)\n",
    "\n",
    "# convert from release date to months since release\n",
    "for i in data.index:\n",
    "    data.at[i, 'release_date'] = timedelta(seconds=int(now-data.at[i, 'release_date'])).days / 30.0\n"
   ]
  },
  {
   "cell_type": "code",
   "execution_count": 317,
   "metadata": {},
   "outputs": [
    {
     "data": {
      "text/plain": [
       "<matplotlib.axes._subplots.AxesSubplot at 0x7f735a4fa358>"
      ]
     },
     "execution_count": 317,
     "metadata": {},
     "output_type": "execute_result"
    },
    {
     "data": {
      "image/png": "[encoded data removed]",
      "text/plain": [
       "<Figure size 432x288 with 1 Axes>"
      ]
     },
     "metadata": {
      "needs_background": "light"
     },
     "output_type": "display_data"
    }
   ],
   "source": []
  },
  {
   "cell_type": "code",
   "execution_count": 159,
   "metadata": {},
   "outputs": [],
   "source": [
    "for i in data.index:\n",
    "\n",
    "    # games that have been out longer can have more updates\n",
    "    # -> '# updates per month since release'\n",
    "    data.at[i, 'num_post'] /= (1 + data.at[i, 'release_date'])\n",
    "\n",
    "    data.at[i, 'mean_time'] /= 30.0 # convert days->months"
   ]
  },
  {
   "cell_type": "code",
   "execution_count": 160,
   "metadata": {},
   "outputs": [],
   "source": [
    "# log transform and normalize the data as before\n",
    "data['num_pre'] = np.log(1 + 100*data['num_pre'])\n",
    "data['num_post'] = np.log(1 + 200*data['num_post'])\n",
    "data['mean_time'] = np.log(1 + 200*data['mean_time'])\n",
    "data['len_description'] = np.log(1+data['len_description'])\n",
    "\n",
    "data['num_pre'] = (data['num_pre'] - data['num_pre'].mean()) / data['num_pre'].std()\n",
    "data['num_post'] = (data['num_post'] - data['num_post'].mean()) / data['num_post'].std()\n",
    "data['mean_time'] = (data['mean_time'] - data['mean_time'].mean()) / data['mean_time'].std()\n"
   ]
  },
  {
   "cell_type": "markdown",
   "metadata": {},
   "source": [
    "<h2> to do: generate some visualizations </h2>\n",
    "\n",
    "I've tried some ways to visualize/split the data in features space but the results have been quite poor..."
   ]
  },
  {
   "cell_type": "markdown",
   "metadata": {},
   "source": [
    "<b> Fitting with several different regressors, as in the previous analysis. </b>\n",
    "\n",
    "We will evaluate the classifiers with f1 score: macro means unweighted average of the one-vs-rest f1 score whereas weighted means the classes are weighted by their proportions: postive ~ 0.73, mixed ~ 0.24 and negative ~0.03. The models are trained on a subset where the minority classes are oversampled.\n",
    "\n",
    "For the 3-class classification problem, we can calculate the baseline macro f1 score for i) random guess and ii) weighted guess:\n",
    "\n",
    "- If each class is guessed with $p=1/3$, then $f_{1, macro} \\simeq 0.26$.\n",
    "- For weighted guess, each class is guessed with $p_i = f_i$ where $f_i$ is the class frequency. In this case, $f_{1, macro} = 1/3 \\simeq 0.33$.\n",
    "\n",
    "In scikit-learn, f1 score offers multiclass options and seems more intuitive than AUC score when comparing against baseline classification strategies."
   ]
  },
  {
   "cell_type": "code",
   "execution_count": 251,
   "metadata": {},
   "outputs": [
    {
     "name": "stdout",
     "output_type": "stream",
     "text": [
      "Counter({1.0: 4307, 0.0: 1505, -1.0: 215})\n"
     ]
    }
   ],
   "source": [
    "from sklearn.ensemble import RandomForestClassifier\n",
    "from sklearn.tree import DecisionTreeClassifier\n",
    "from sklearn.linear_model import LogisticRegression\n",
    "\n",
    "from sklearn.model_selection import train_test_split\n",
    "from sklearn.metrics import f1_score, confusion_matrix\n",
    "from collections import Counter\n",
    "from imblearn.over_sampling import SMOTE\n",
    "\n",
    "X = data[['num_post','num_pre','mean_time'] + cat_vars].values\n",
    "Y = data['sentiment'].values\n",
    "print(Counter(list(Y)))\n",
    "Y = Y.reshape(-1,1)"
   ]
  },
  {
   "cell_type": "code",
   "execution_count": 244,
   "metadata": {},
   "outputs": [
    {
     "name": "stdout",
     "output_type": "stream",
     "text": [
      "[[ 22 141 370]\n",
      " [ 32 194 529]\n",
      " [ 32 267 824]]\n",
      "f1 macro 0.3120218508744614\n",
      "f1 weighted 0.374965850663895\n"
     ]
    }
   ],
   "source": [
    "x_train, x_test, y_train, y_test = train_test_split(X, Y, stratify=Y, test_size = 0.4)\n",
    "x_resampled, y_resampled = SMOTE().fit_resample(x_train, y_train.ravel())\n",
    "\n",
    "dtc = DecisionTreeClassifier(max_depth=10)\n",
    "dtc.fit(x_resampled, y_resampled)\n",
    "\n",
    "y_pred = dtc.predict(x_test)\n",
    "print(confusion_matrix(y_pred, y_test))\n",
    "print('f1 macro', f1_score(y_pred, y_test.ravel(), average='macro'))\n",
    "print('f1 weighted', f1_score(y_pred, y_test.ravel(), average='weighted'))"
   ]
  },
  {
   "cell_type": "code",
   "execution_count": 245,
   "metadata": {},
   "outputs": [
    {
     "name": "stdout",
     "output_type": "stream",
     "text": [
      "[[ 50 104 339]\n",
      " [ 21 295 424]\n",
      " [ 15 203 960]]\n",
      "f1 macro 0.4247315470447888\n",
      "f1 weighted 0.4936252685017247\n"
     ]
    }
   ],
   "source": [
    "x_train, x_test, y_train, y_test = train_test_split(X, Y, stratify=Y, test_size = 0.4)\n",
    "x_resampled, y_resampled = SMOTE().fit_resample(x_train, y_train.ravel())\n",
    "\n",
    "rfc = RandomForestClassifier(n_estimators=15, max_depth=10, bootstrap=True)\n",
    "rfc.fit(x_resampled, y_resampled)\n",
    "\n",
    "y_pred = dtc.predict(x_test)\n",
    "print(confusion_matrix(y_pred, y_test))\n",
    "print('f1 macro', f1_score(y_pred, y_test.ravel(), average='macro'))\n",
    "print('f1 weighted', f1_score(y_pred, y_test.ravel(), average='weighted'))"
   ]
  },
  {
   "cell_type": "code",
   "execution_count": 246,
   "metadata": {},
   "outputs": [
    {
     "name": "stdout",
     "output_type": "stream",
     "text": [
      "[[  46  260  533]\n",
      " [  12   56  170]\n",
      " [  28  286 1020]]\n",
      "f1 macro 0.30003789854624\n",
      "f1 weighted 0.4169995455065479\n"
     ]
    }
   ],
   "source": [
    "x_train, x_test, y_train, y_test = train_test_split(X, Y, stratify=Y, test_size = 0.4)\n",
    "x_resampled, y_resampled = SMOTE().fit_resample(x_train, y_train.ravel())\n",
    "\n",
    "log_reg = LogisticRegression(penalty='l2', C=100.0, solver='lbfgs',multi_class='ovr')\n",
    "log_reg.fit(x_resampled, y_resampled)\n",
    "\n",
    "y_pred = log_reg.predict(x_test)\n",
    "print(confusion_matrix(y_pred, y_test))\n",
    "print('f1 macro', f1_score(y_pred, y_test.ravel(), average='macro'))\n",
    "print('f1 weighted', f1_score(y_pred, y_test.ravel(), average='weighted'))"
   ]
  },
  {
   "cell_type": "code",
   "execution_count": 247,
   "metadata": {},
   "outputs": [],
   "source": [
    "from sklearn.model_selection import cross_val_score, StratifiedKFold\n",
    "\n",
    "skf = StratifiedKFold(n_splits=10)\n",
    "\n",
    "def get_mean_f1(skf, X, Y, model):\n",
    "\n",
    "    indices = skf.split(X, Y)\n",
    "\n",
    "    f1_scores = []\n",
    "\n",
    "    for train_indices, test_indices in indices:\n",
    "        \n",
    "        xr_train, xr_test = X[train_indices], X[test_indices]\n",
    "        yr_train, yr_test = Y[train_indices], Y[test_indices]\n",
    "    \n",
    "        xr_resampled, yr_resampled = SMOTE().fit_resample(xr_train, yr_train.ravel())\n",
    "        model.fit(xr_resampled, yr_resampled)\n",
    "        yr_pred = model.predict(xr_test)\n",
    "    \n",
    "        f1_scores.append(f1_score(yr_pred, yr_test, average='macro'))\n",
    "\n",
    "    return np.mean(f1_scores), np.std(f1_scores)\n"
   ]
  },
  {
   "cell_type": "markdown",
   "metadata": {},
   "source": [
    "Compare the models on their scores using 10-fold CV:"
   ]
  },
  {
   "cell_type": "code",
   "execution_count": 252,
   "metadata": {},
   "outputs": [
    {
     "name": "stdout",
     "output_type": "stream",
     "text": [
      "(0.3590218011684674, 0.03246725827227365)\n",
      "(0.3804666332418735, 0.020702495887429503)\n",
      "(0.3443918449484222, 0.03435557696548091)\n"
     ]
    }
   ],
   "source": [
    "print(get_mean_f1(skf, X, Y, dtc))\n",
    "print(get_mean_f1(skf, X, Y, rfc))\n",
    "print(get_mean_f1(skf, X, Y, log_reg))"
   ]
  },
  {
   "cell_type": "markdown",
   "metadata": {},
   "source": [
    "<b> In the end, although not better by much than weighted guess, the random forest classifier outperforms others. Adding the categorial features also helps - it does split the feature space up in other directions which makes the classifier perform better than the weighted guess baseline."
   ]
  },
  {
   "cell_type": "code",
   "execution_count": null,
   "metadata": {},
   "outputs": [],
   "source": []
  }
 ],
 "metadata": {
  "kernelspec": {
   "display_name": "Python 3",
   "language": "python",
   "name": "python3"
  },
  "language_info": {
   "codemirror_mode": {
    "name": "ipython",
    "version": 3
   },
   "file_extension": ".py",
   "mimetype": "text/x-python",
   "name": "python",
   "nbconvert_exporter": "python",
   "pygments_lexer": "ipython3",
   "version": "3.6.7"
  }
 },
 "nbformat": 4,
 "nbformat_minor": 2
}
