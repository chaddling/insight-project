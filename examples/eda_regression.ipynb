{
 "cells": [
  {
   "cell_type": "markdown",
   "metadata": {},
   "source": [
    "<b> Exploratory data analysis 1</b>\n",
    "\n",
    "My data consists of content-related data of game pages on Steam - when a user arrives at a page, he/she sees contents related to the game such as: the game description, updates/news related to the game, number of gameplay screenshots/videos - as well as a score/rating for the game. We call games that have a rating \"labeled\". Of the data set I collected, about 40% of games are unlabeled.\n",
    "\n",
    "The latter can be further broken up into three measures: the total number of user reviews, the % of those reviews that were positive, and an overall rating. The rating is related to the % positive reviews: < 40% positive reviews gives a \"negative\" sentiment rating, between 40-60% is \"mixed\", and above that is \"positive\".\n",
    "\n",
    "The problem surrounding my project is to use labeled data to train a model that assigns/predicts the scoring/rating for unlabeled data.\n",
    "\n",
    "This can be approached two ways:\n",
    "- Train a regression model using the score.\n",
    "- Train a classification model using the sentiment (negative, mixed, positive)."
   ]
  },
  {
   "cell_type": "code",
   "execution_count": 171,
   "metadata": {},
   "outputs": [
    {
     "data": {
      "text/plain": [
       "0.25    17.800000\n",
       "0.50    32.866667\n",
       "0.75    49.200000\n",
       "0.90    65.306667\n",
       "Name: release_date, dtype: float64"
      ]
     },
     "execution_count": 171,
     "metadata": {},
     "output_type": "execute_result"
    }
   ],
   "source": [
    "import pandas as pd\n",
    "import numpy as np\n",
    "import matplotlib.pyplot as plt\n",
    "import seaborn as sns\n",
    "\n",
    "from datetime import datetime, timedelta\n",
    "\n",
    "now = datetime(year=2019, month=5, day=26).timestamp()\n",
    "\n",
    "# note: mean_time is in days\n",
    "cont_vars = ['num_pre','num_post','mean_time', 'release_date','len_description', 'num_movies',\n",
    "                 'num_images','score','num_reviews','sentiment']\n",
    "cat_vars = ['is_action', 'is_adventure', 'is_casual', 'is_mmo', 'is_racing', 'is_rpg', 'is_strategy', 'is_simulation', 'is_sports']\n",
    "\n",
    "data = pd.read_csv('../data/features_vec_all.csv', usecols=cont_vars+cat_vars)\n",
    "\n",
    "# convert from release date to months since release\n",
    "for i in data.index:\n",
    "    data.at[i, 'release_date'] = timedelta(seconds=int(now-data.at[i, 'release_date'])).days / 30.0\n",
    "    \n",
    "data['release_date'].quantile([0.25, 0.5, 0.75, 0.9])"
   ]
  },
  {
   "cell_type": "markdown",
   "metadata": {},
   "source": [
    "<b> look at the distribution of score received by label"
   ]
  },
  {
   "cell_type": "code",
   "execution_count": 172,
   "metadata": {},
   "outputs": [
    {
     "data": {
      "text/plain": [
       "<matplotlib.axes._subplots.AxesSubplot at 0x7f650aa9e4a8>"
      ]
     },
     "execution_count": 172,
     "metadata": {},
     "output_type": "execute_result"
    },
    {
     "data": {
      "image/png": "[encoded data removed]",
      "text/plain": [
       "<Figure size 432x288 with 1 Axes>"
      ]
     },
     "metadata": {
      "needs_background": "light"
     },
     "output_type": "display_data"
    }
   ],
   "source": [
    "data.loc[data['sentiment']==1]['score'].hist(bins=100, range=(0,1), density=True, color='blue')\n",
    "data.loc[data['sentiment']==0]['score'].hist(bins=100, range=(0,1),density=True,color='green')\n",
    "data.loc[data['sentiment']==-1]['score'].hist(bins=100, range=(0,1),density=True,color='red')"
   ]
  },
  {
   "cell_type": "markdown",
   "metadata": {},
   "source": [
    "<b>The score distribution over all classes is skewed:"
   ]
  },
  {
   "cell_type": "code",
   "execution_count": 173,
   "metadata": {},
   "outputs": [
    {
     "data": {
      "text/plain": [
       "<matplotlib.axes._subplots.AxesSubplot at 0x7f650a297978>"
      ]
     },
     "execution_count": 173,
     "metadata": {},
     "output_type": "execute_result"
    },
    {
     "data": {
      "image/png": "[encoded data removed]",
      "text/plain": [
       "<Figure size 432x288 with 1 Axes>"
      ]
     },
     "metadata": {
      "needs_background": "light"
     },
     "output_type": "display_data"
    }
   ],
   "source": [
    "data['score'].hist(bins=50, range=(0,1),density=True,color='red')"
   ]
  },
  {
   "cell_type": "markdown",
   "metadata": {},
   "source": [
    "<b> look at the distribution of reviews received by label, pretty similar across different labels:"
   ]
  },
  {
   "cell_type": "code",
   "execution_count": 174,
   "metadata": {},
   "outputs": [
    {
     "data": {
      "text/plain": [
       "<matplotlib.axes._subplots.AxesSubplot at 0x7f650adb5630>"
      ]
     },
     "execution_count": 174,
     "metadata": {},
     "output_type": "execute_result"
    },
    {
     "data": {
      "image/png": "[encoded data removed]",
      "text/plain": [
       "<Figure size 432x288 with 1 Axes>"
      ]
     },
     "metadata": {
      "needs_background": "light"
     },
     "output_type": "display_data"
    }
   ],
   "source": [
    "data.loc[data['sentiment']==-1]['num_reviews'].hist(bins=100, range=(50, 1000),density=True,color='green')\n",
    "data.loc[data['sentiment']==1]['num_reviews'].hist(bins=100, range=(50, 1000), density=True, color='blue')\n",
    "data.loc[data['sentiment']==0]['num_reviews'].hist(bins=100, range=(50, 1000),density=True,color='red')\n"
   ]
  },
  {
   "cell_type": "markdown",
   "metadata": {},
   "source": [
    "<b> Some data need to be normalized. For example:\n",
    "1. the number of updates since release depends on how long it has been released for.\n",
    "2. a game can accumulate its score in a shorter or longer amount of time, depending on how long it has been released for."
   ]
  },
  {
   "cell_type": "code",
   "execution_count": 175,
   "metadata": {},
   "outputs": [],
   "source": [
    "med_release_date = data['release_date'].median()\n",
    "max_release_date = data['release_date'].max()\n",
    "med_reviews = data['num_reviews'].median()\n",
    "mean_reviews = data['num_reviews'].mean()\n",
    "\n",
    "for i in data.index:\n",
    "    n_post = data.at[i, 'num_post']\n",
    "    n_pre = data.at[i, 'num_pre']\n",
    "    \n",
    "    # scores for games with sufficient (>100) reviews\n",
    "    # games can have a high rating but either been released for a long time,\n",
    "    # or it has been out for not too long but still very popular amongst users\n",
    "\n",
    "#    if data.at[i, 'score'] > 0.5:\n",
    "#        data.at[i, 'score'] *= (1 + (data.at[i, 'release_date'] - med_release_date) / max_release_date)\n",
    "#    else:\n",
    "#        data.at[i, 'score'] *= (1 - (data.at[i, 'release_date'] - med_release_date) / max_release_date)\n",
    "        \n",
    "    if data.at[i, 'num_reviews'] > med_reviews:\n",
    "        data.at[i, 'num_reviews'] *= data.at[i, 'score']*(1 + (data.at[i, 'release_date'] - med_release_date) / max_release_date)\n",
    "    else:\n",
    "        data.at[i, 'num_reviews'] *= data.at[i, 'score']*(1 - (data.at[i, 'release_date'] - med_release_date) / max_release_date)       \n",
    "        \n",
    "    # games that have been out longer can have more updates\n",
    "    # -> '# updates per month since release'\n",
    "    data.at[i, 'num_post'] /= (1 + data.at[i, 'release_date'])\n",
    "\n",
    "    data.at[i, 'mean_time'] /= 30.0 # convert days->months"
   ]
  },
  {
   "cell_type": "code",
   "execution_count": 176,
   "metadata": {},
   "outputs": [
    {
     "data": {
      "text/plain": [
       "<matplotlib.axes._subplots.AxesSubplot at 0x7f650ab4d128>"
      ]
     },
     "execution_count": 176,
     "metadata": {},
     "output_type": "execute_result"
    },
    {
     "data": {
      "image/png": "[encoded data removed]",
      "text/plain": [
       "<Figure size 432x288 with 1 Axes>"
      ]
     },
     "metadata": {
      "needs_background": "light"
     },
     "output_type": "display_data"
    }
   ],
   "source": [
    "data['score'].hist(bins=20, range=(0, 1.5), density=True)"
   ]
  },
  {
   "cell_type": "code",
   "execution_count": 177,
   "metadata": {
    "scrolled": true
   },
   "outputs": [
    {
     "data": {
      "text/html": [
       "<div>\n",
       "<style scoped>\n",
       "    .dataframe tbody tr th:only-of-type {\n",
       "        vertical-align: middle;\n",
       "    }\n",
       "\n",
       "    .dataframe tbody tr th {\n",
       "        vertical-align: top;\n",
       "    }\n",
       "\n",
       "    .dataframe thead th {\n",
       "        text-align: right;\n",
       "    }\n",
       "</style>\n",
       "<table border=\"1\" class=\"dataframe\">\n",
       "  <thead>\n",
       "    <tr style=\"text-align: right;\">\n",
       "      <th></th>\n",
       "      <th>num_pre</th>\n",
       "      <th>num_post</th>\n",
       "      <th>mean_time</th>\n",
       "      <th>release_date</th>\n",
       "      <th>len_description</th>\n",
       "      <th>num_movies</th>\n",
       "      <th>num_images</th>\n",
       "      <th>score</th>\n",
       "      <th>num_reviews</th>\n",
       "      <th>sentiment</th>\n",
       "      <th>is_action</th>\n",
       "      <th>is_adventure</th>\n",
       "      <th>is_casual</th>\n",
       "      <th>is_mmo</th>\n",
       "      <th>is_racing</th>\n",
       "      <th>is_rpg</th>\n",
       "      <th>is_simulation</th>\n",
       "      <th>is_sports</th>\n",
       "      <th>is_strategy</th>\n",
       "    </tr>\n",
       "  </thead>\n",
       "  <tbody>\n",
       "    <tr>\n",
       "      <th>num_pre</th>\n",
       "      <td>1.000000</td>\n",
       "      <td>0.388869</td>\n",
       "      <td>-0.321335</td>\n",
       "      <td>-0.293267</td>\n",
       "      <td>0.262835</td>\n",
       "      <td>0.293986</td>\n",
       "      <td>0.231957</td>\n",
       "      <td>-0.028500</td>\n",
       "      <td>0.161393</td>\n",
       "      <td>-0.026774</td>\n",
       "      <td>0.090465</td>\n",
       "      <td>0.021313</td>\n",
       "      <td>-0.154059</td>\n",
       "      <td>0.064792</td>\n",
       "      <td>0.036100</td>\n",
       "      <td>0.088749</td>\n",
       "      <td>0.117715</td>\n",
       "      <td>0.036068</td>\n",
       "      <td>0.109216</td>\n",
       "    </tr>\n",
       "    <tr>\n",
       "      <th>num_post</th>\n",
       "      <td>0.388869</td>\n",
       "      <td>1.000000</td>\n",
       "      <td>-0.452508</td>\n",
       "      <td>-0.530305</td>\n",
       "      <td>0.279497</td>\n",
       "      <td>0.280408</td>\n",
       "      <td>0.179178</td>\n",
       "      <td>0.110099</td>\n",
       "      <td>0.241260</td>\n",
       "      <td>0.072595</td>\n",
       "      <td>0.027002</td>\n",
       "      <td>0.010869</td>\n",
       "      <td>-0.072318</td>\n",
       "      <td>0.152612</td>\n",
       "      <td>-0.000853</td>\n",
       "      <td>0.157441</td>\n",
       "      <td>0.173635</td>\n",
       "      <td>0.020404</td>\n",
       "      <td>0.109764</td>\n",
       "    </tr>\n",
       "    <tr>\n",
       "      <th>mean_time</th>\n",
       "      <td>-0.321335</td>\n",
       "      <td>-0.452508</td>\n",
       "      <td>1.000000</td>\n",
       "      <td>0.439401</td>\n",
       "      <td>-0.149990</td>\n",
       "      <td>-0.169102</td>\n",
       "      <td>-0.058122</td>\n",
       "      <td>0.062485</td>\n",
       "      <td>0.020857</td>\n",
       "      <td>0.069629</td>\n",
       "      <td>-0.062383</td>\n",
       "      <td>0.021947</td>\n",
       "      <td>0.078016</td>\n",
       "      <td>-0.125748</td>\n",
       "      <td>-0.025705</td>\n",
       "      <td>-0.081437</td>\n",
       "      <td>-0.109501</td>\n",
       "      <td>-0.040601</td>\n",
       "      <td>-0.089337</td>\n",
       "    </tr>\n",
       "    <tr>\n",
       "      <th>release_date</th>\n",
       "      <td>-0.293267</td>\n",
       "      <td>-0.530305</td>\n",
       "      <td>0.439401</td>\n",
       "      <td>1.000000</td>\n",
       "      <td>-0.053741</td>\n",
       "      <td>-0.161507</td>\n",
       "      <td>0.063449</td>\n",
       "      <td>-0.070020</td>\n",
       "      <td>0.125915</td>\n",
       "      <td>-0.058191</td>\n",
       "      <td>0.030731</td>\n",
       "      <td>-0.057900</td>\n",
       "      <td>-0.063948</td>\n",
       "      <td>-0.085318</td>\n",
       "      <td>-0.002322</td>\n",
       "      <td>-0.043538</td>\n",
       "      <td>-0.128894</td>\n",
       "      <td>-0.031259</td>\n",
       "      <td>-0.000121</td>\n",
       "    </tr>\n",
       "    <tr>\n",
       "      <th>len_description</th>\n",
       "      <td>0.262835</td>\n",
       "      <td>0.279497</td>\n",
       "      <td>-0.149990</td>\n",
       "      <td>-0.053741</td>\n",
       "      <td>1.000000</td>\n",
       "      <td>0.237408</td>\n",
       "      <td>0.329729</td>\n",
       "      <td>-0.055510</td>\n",
       "      <td>0.086468</td>\n",
       "      <td>-0.031375</td>\n",
       "      <td>0.043120</td>\n",
       "      <td>0.015194</td>\n",
       "      <td>-0.191414</td>\n",
       "      <td>0.071017</td>\n",
       "      <td>0.024716</td>\n",
       "      <td>0.161720</td>\n",
       "      <td>0.136916</td>\n",
       "      <td>0.047253</td>\n",
       "      <td>0.159944</td>\n",
       "    </tr>\n",
       "    <tr>\n",
       "      <th>num_movies</th>\n",
       "      <td>0.293986</td>\n",
       "      <td>0.280408</td>\n",
       "      <td>-0.169102</td>\n",
       "      <td>-0.161507</td>\n",
       "      <td>0.237408</td>\n",
       "      <td>1.000000</td>\n",
       "      <td>0.207393</td>\n",
       "      <td>0.011080</td>\n",
       "      <td>0.117528</td>\n",
       "      <td>0.006976</td>\n",
       "      <td>0.084475</td>\n",
       "      <td>0.077873</td>\n",
       "      <td>-0.105054</td>\n",
       "      <td>0.012242</td>\n",
       "      <td>0.033972</td>\n",
       "      <td>0.021864</td>\n",
       "      <td>0.042528</td>\n",
       "      <td>0.050857</td>\n",
       "      <td>0.007345</td>\n",
       "    </tr>\n",
       "    <tr>\n",
       "      <th>num_images</th>\n",
       "      <td>0.231957</td>\n",
       "      <td>0.179178</td>\n",
       "      <td>-0.058122</td>\n",
       "      <td>0.063449</td>\n",
       "      <td>0.329729</td>\n",
       "      <td>0.207393</td>\n",
       "      <td>1.000000</td>\n",
       "      <td>-0.089281</td>\n",
       "      <td>0.085082</td>\n",
       "      <td>-0.053306</td>\n",
       "      <td>0.112033</td>\n",
       "      <td>0.020727</td>\n",
       "      <td>-0.133241</td>\n",
       "      <td>0.038245</td>\n",
       "      <td>0.033995</td>\n",
       "      <td>0.084556</td>\n",
       "      <td>0.102679</td>\n",
       "      <td>0.023148</td>\n",
       "      <td>0.096694</td>\n",
       "    </tr>\n",
       "    <tr>\n",
       "      <th>score</th>\n",
       "      <td>-0.028500</td>\n",
       "      <td>0.110099</td>\n",
       "      <td>0.062485</td>\n",
       "      <td>-0.070020</td>\n",
       "      <td>-0.055510</td>\n",
       "      <td>0.011080</td>\n",
       "      <td>-0.089281</td>\n",
       "      <td>1.000000</td>\n",
       "      <td>0.410585</td>\n",
       "      <td>0.748574</td>\n",
       "      <td>-0.063666</td>\n",
       "      <td>-0.026470</td>\n",
       "      <td>0.058178</td>\n",
       "      <td>-0.168319</td>\n",
       "      <td>-0.031687</td>\n",
       "      <td>-0.055914</td>\n",
       "      <td>-0.137796</td>\n",
       "      <td>-0.033981</td>\n",
       "      <td>-0.139392</td>\n",
       "    </tr>\n",
       "    <tr>\n",
       "      <th>num_reviews</th>\n",
       "      <td>0.161393</td>\n",
       "      <td>0.241260</td>\n",
       "      <td>0.020857</td>\n",
       "      <td>0.125915</td>\n",
       "      <td>0.086468</td>\n",
       "      <td>0.117528</td>\n",
       "      <td>0.085082</td>\n",
       "      <td>0.410585</td>\n",
       "      <td>1.000000</td>\n",
       "      <td>0.309071</td>\n",
       "      <td>-0.004752</td>\n",
       "      <td>0.007338</td>\n",
       "      <td>-0.064643</td>\n",
       "      <td>0.052252</td>\n",
       "      <td>-0.027269</td>\n",
       "      <td>0.049785</td>\n",
       "      <td>0.020566</td>\n",
       "      <td>-0.033838</td>\n",
       "      <td>0.008918</td>\n",
       "    </tr>\n",
       "    <tr>\n",
       "      <th>sentiment</th>\n",
       "      <td>-0.026774</td>\n",
       "      <td>0.072595</td>\n",
       "      <td>0.069629</td>\n",
       "      <td>-0.058191</td>\n",
       "      <td>-0.031375</td>\n",
       "      <td>0.006976</td>\n",
       "      <td>-0.053306</td>\n",
       "      <td>0.748574</td>\n",
       "      <td>0.309071</td>\n",
       "      <td>1.000000</td>\n",
       "      <td>-0.054715</td>\n",
       "      <td>-0.014100</td>\n",
       "      <td>0.049818</td>\n",
       "      <td>-0.154779</td>\n",
       "      <td>-0.019230</td>\n",
       "      <td>-0.040414</td>\n",
       "      <td>-0.119550</td>\n",
       "      <td>-0.019350</td>\n",
       "      <td>-0.103530</td>\n",
       "    </tr>\n",
       "    <tr>\n",
       "      <th>is_action</th>\n",
       "      <td>0.090465</td>\n",
       "      <td>0.027002</td>\n",
       "      <td>-0.062383</td>\n",
       "      <td>0.030731</td>\n",
       "      <td>0.043120</td>\n",
       "      <td>0.084475</td>\n",
       "      <td>0.112033</td>\n",
       "      <td>-0.063666</td>\n",
       "      <td>-0.004752</td>\n",
       "      <td>-0.054715</td>\n",
       "      <td>1.000000</td>\n",
       "      <td>-0.020175</td>\n",
       "      <td>-0.157151</td>\n",
       "      <td>0.059040</td>\n",
       "      <td>0.064823</td>\n",
       "      <td>-0.021262</td>\n",
       "      <td>-0.141926</td>\n",
       "      <td>0.034770</td>\n",
       "      <td>-0.189737</td>\n",
       "    </tr>\n",
       "    <tr>\n",
       "      <th>is_adventure</th>\n",
       "      <td>0.021313</td>\n",
       "      <td>0.010869</td>\n",
       "      <td>0.021947</td>\n",
       "      <td>-0.057900</td>\n",
       "      <td>0.015194</td>\n",
       "      <td>0.077873</td>\n",
       "      <td>0.020727</td>\n",
       "      <td>-0.026470</td>\n",
       "      <td>0.007338</td>\n",
       "      <td>-0.014100</td>\n",
       "      <td>-0.020175</td>\n",
       "      <td>1.000000</td>\n",
       "      <td>-0.048411</td>\n",
       "      <td>-0.010426</td>\n",
       "      <td>-0.092656</td>\n",
       "      <td>0.167196</td>\n",
       "      <td>-0.117162</td>\n",
       "      <td>-0.142767</td>\n",
       "      <td>-0.189854</td>\n",
       "    </tr>\n",
       "    <tr>\n",
       "      <th>is_casual</th>\n",
       "      <td>-0.154059</td>\n",
       "      <td>-0.072318</td>\n",
       "      <td>0.078016</td>\n",
       "      <td>-0.063948</td>\n",
       "      <td>-0.191414</td>\n",
       "      <td>-0.105054</td>\n",
       "      <td>-0.133241</td>\n",
       "      <td>0.058178</td>\n",
       "      <td>-0.064643</td>\n",
       "      <td>0.049818</td>\n",
       "      <td>-0.157151</td>\n",
       "      <td>-0.048411</td>\n",
       "      <td>1.000000</td>\n",
       "      <td>-0.041306</td>\n",
       "      <td>0.006160</td>\n",
       "      <td>-0.128059</td>\n",
       "      <td>0.072131</td>\n",
       "      <td>0.025331</td>\n",
       "      <td>-0.016558</td>\n",
       "    </tr>\n",
       "    <tr>\n",
       "      <th>is_mmo</th>\n",
       "      <td>0.064792</td>\n",
       "      <td>0.152612</td>\n",
       "      <td>-0.125748</td>\n",
       "      <td>-0.085318</td>\n",
       "      <td>0.071017</td>\n",
       "      <td>0.012242</td>\n",
       "      <td>0.038245</td>\n",
       "      <td>-0.168319</td>\n",
       "      <td>0.052252</td>\n",
       "      <td>-0.154779</td>\n",
       "      <td>0.059040</td>\n",
       "      <td>-0.010426</td>\n",
       "      <td>-0.041306</td>\n",
       "      <td>1.000000</td>\n",
       "      <td>0.010433</td>\n",
       "      <td>0.130331</td>\n",
       "      <td>0.018598</td>\n",
       "      <td>-0.012043</td>\n",
       "      <td>0.053829</td>\n",
       "    </tr>\n",
       "    <tr>\n",
       "      <th>is_racing</th>\n",
       "      <td>0.036100</td>\n",
       "      <td>-0.000853</td>\n",
       "      <td>-0.025705</td>\n",
       "      <td>-0.002322</td>\n",
       "      <td>0.024716</td>\n",
       "      <td>0.033972</td>\n",
       "      <td>0.033995</td>\n",
       "      <td>-0.031687</td>\n",
       "      <td>-0.027269</td>\n",
       "      <td>-0.019230</td>\n",
       "      <td>0.064823</td>\n",
       "      <td>-0.092656</td>\n",
       "      <td>0.006160</td>\n",
       "      <td>0.010433</td>\n",
       "      <td>1.000000</td>\n",
       "      <td>-0.074213</td>\n",
       "      <td>0.061803</td>\n",
       "      <td>0.262873</td>\n",
       "      <td>-0.068010</td>\n",
       "    </tr>\n",
       "    <tr>\n",
       "      <th>is_rpg</th>\n",
       "      <td>0.088749</td>\n",
       "      <td>0.157441</td>\n",
       "      <td>-0.081437</td>\n",
       "      <td>-0.043538</td>\n",
       "      <td>0.161720</td>\n",
       "      <td>0.021864</td>\n",
       "      <td>0.084556</td>\n",
       "      <td>-0.055914</td>\n",
       "      <td>0.049785</td>\n",
       "      <td>-0.040414</td>\n",
       "      <td>-0.021262</td>\n",
       "      <td>0.167196</td>\n",
       "      <td>-0.128059</td>\n",
       "      <td>0.130331</td>\n",
       "      <td>-0.074213</td>\n",
       "      <td>1.000000</td>\n",
       "      <td>-0.013848</td>\n",
       "      <td>-0.073908</td>\n",
       "      <td>0.113517</td>\n",
       "    </tr>\n",
       "    <tr>\n",
       "      <th>is_simulation</th>\n",
       "      <td>0.117715</td>\n",
       "      <td>0.173635</td>\n",
       "      <td>-0.109501</td>\n",
       "      <td>-0.128894</td>\n",
       "      <td>0.136916</td>\n",
       "      <td>0.042528</td>\n",
       "      <td>0.102679</td>\n",
       "      <td>-0.137796</td>\n",
       "      <td>0.020566</td>\n",
       "      <td>-0.119550</td>\n",
       "      <td>-0.141926</td>\n",
       "      <td>-0.117162</td>\n",
       "      <td>0.072131</td>\n",
       "      <td>0.018598</td>\n",
       "      <td>0.061803</td>\n",
       "      <td>-0.013848</td>\n",
       "      <td>1.000000</td>\n",
       "      <td>0.135415</td>\n",
       "      <td>0.194813</td>\n",
       "    </tr>\n",
       "    <tr>\n",
       "      <th>is_sports</th>\n",
       "      <td>0.036068</td>\n",
       "      <td>0.020404</td>\n",
       "      <td>-0.040601</td>\n",
       "      <td>-0.031259</td>\n",
       "      <td>0.047253</td>\n",
       "      <td>0.050857</td>\n",
       "      <td>0.023148</td>\n",
       "      <td>-0.033981</td>\n",
       "      <td>-0.033838</td>\n",
       "      <td>-0.019350</td>\n",
       "      <td>0.034770</td>\n",
       "      <td>-0.142767</td>\n",
       "      <td>0.025331</td>\n",
       "      <td>-0.012043</td>\n",
       "      <td>0.262873</td>\n",
       "      <td>-0.073908</td>\n",
       "      <td>0.135415</td>\n",
       "      <td>1.000000</td>\n",
       "      <td>-0.016234</td>\n",
       "    </tr>\n",
       "    <tr>\n",
       "      <th>is_strategy</th>\n",
       "      <td>0.109216</td>\n",
       "      <td>0.109764</td>\n",
       "      <td>-0.089337</td>\n",
       "      <td>-0.000121</td>\n",
       "      <td>0.159944</td>\n",
       "      <td>0.007345</td>\n",
       "      <td>0.096694</td>\n",
       "      <td>-0.139392</td>\n",
       "      <td>0.008918</td>\n",
       "      <td>-0.103530</td>\n",
       "      <td>-0.189737</td>\n",
       "      <td>-0.189854</td>\n",
       "      <td>-0.016558</td>\n",
       "      <td>0.053829</td>\n",
       "      <td>-0.068010</td>\n",
       "      <td>0.113517</td>\n",
       "      <td>0.194813</td>\n",
       "      <td>-0.016234</td>\n",
       "      <td>1.000000</td>\n",
       "    </tr>\n",
       "  </tbody>\n",
       "</table>\n",
       "</div>"
      ],
      "text/plain": [
       "                  num_pre  num_post  mean_time  release_date  len_description  \\\n",
       "num_pre          1.000000  0.388869  -0.321335     -0.293267         0.262835   \n",
       "num_post         0.388869  1.000000  -0.452508     -0.530305         0.279497   \n",
       "mean_time       -0.321335 -0.452508   1.000000      0.439401        -0.149990   \n",
       "release_date    -0.293267 -0.530305   0.439401      1.000000        -0.053741   \n",
       "len_description  0.262835  0.279497  -0.149990     -0.053741         1.000000   \n",
       "num_movies       0.293986  0.280408  -0.169102     -0.161507         0.237408   \n",
       "num_images       0.231957  0.179178  -0.058122      0.063449         0.329729   \n",
       "score           -0.028500  0.110099   0.062485     -0.070020        -0.055510   \n",
       "num_reviews      0.161393  0.241260   0.020857      0.125915         0.086468   \n",
       "sentiment       -0.026774  0.072595   0.069629     -0.058191        -0.031375   \n",
       "is_action        0.090465  0.027002  -0.062383      0.030731         0.043120   \n",
       "is_adventure     0.021313  0.010869   0.021947     -0.057900         0.015194   \n",
       "is_casual       -0.154059 -0.072318   0.078016     -0.063948        -0.191414   \n",
       "is_mmo           0.064792  0.152612  -0.125748     -0.085318         0.071017   \n",
       "is_racing        0.036100 -0.000853  -0.025705     -0.002322         0.024716   \n",
       "is_rpg           0.088749  0.157441  -0.081437     -0.043538         0.161720   \n",
       "is_simulation    0.117715  0.173635  -0.109501     -0.128894         0.136916   \n",
       "is_sports        0.036068  0.020404  -0.040601     -0.031259         0.047253   \n",
       "is_strategy      0.109216  0.109764  -0.089337     -0.000121         0.159944   \n",
       "\n",
       "                 num_movies  num_images     score  num_reviews  sentiment  \\\n",
       "num_pre            0.293986    0.231957 -0.028500     0.161393  -0.026774   \n",
       "num_post           0.280408    0.179178  0.110099     0.241260   0.072595   \n",
       "mean_time         -0.169102   -0.058122  0.062485     0.020857   0.069629   \n",
       "release_date      -0.161507    0.063449 -0.070020     0.125915  -0.058191   \n",
       "len_description    0.237408    0.329729 -0.055510     0.086468  -0.031375   \n",
       "num_movies         1.000000    0.207393  0.011080     0.117528   0.006976   \n",
       "num_images         0.207393    1.000000 -0.089281     0.085082  -0.053306   \n",
       "score              0.011080   -0.089281  1.000000     0.410585   0.748574   \n",
       "num_reviews        0.117528    0.085082  0.410585     1.000000   0.309071   \n",
       "sentiment          0.006976   -0.053306  0.748574     0.309071   1.000000   \n",
       "is_action          0.084475    0.112033 -0.063666    -0.004752  -0.054715   \n",
       "is_adventure       0.077873    0.020727 -0.026470     0.007338  -0.014100   \n",
       "is_casual         -0.105054   -0.133241  0.058178    -0.064643   0.049818   \n",
       "is_mmo             0.012242    0.038245 -0.168319     0.052252  -0.154779   \n",
       "is_racing          0.033972    0.033995 -0.031687    -0.027269  -0.019230   \n",
       "is_rpg             0.021864    0.084556 -0.055914     0.049785  -0.040414   \n",
       "is_simulation      0.042528    0.102679 -0.137796     0.020566  -0.119550   \n",
       "is_sports          0.050857    0.023148 -0.033981    -0.033838  -0.019350   \n",
       "is_strategy        0.007345    0.096694 -0.139392     0.008918  -0.103530   \n",
       "\n",
       "                 is_action  is_adventure  is_casual    is_mmo  is_racing  \\\n",
       "num_pre           0.090465      0.021313  -0.154059  0.064792   0.036100   \n",
       "num_post          0.027002      0.010869  -0.072318  0.152612  -0.000853   \n",
       "mean_time        -0.062383      0.021947   0.078016 -0.125748  -0.025705   \n",
       "release_date      0.030731     -0.057900  -0.063948 -0.085318  -0.002322   \n",
       "len_description   0.043120      0.015194  -0.191414  0.071017   0.024716   \n",
       "num_movies        0.084475      0.077873  -0.105054  0.012242   0.033972   \n",
       "num_images        0.112033      0.020727  -0.133241  0.038245   0.033995   \n",
       "score            -0.063666     -0.026470   0.058178 -0.168319  -0.031687   \n",
       "num_reviews      -0.004752      0.007338  -0.064643  0.052252  -0.027269   \n",
       "sentiment        -0.054715     -0.014100   0.049818 -0.154779  -0.019230   \n",
       "is_action         1.000000     -0.020175  -0.157151  0.059040   0.064823   \n",
       "is_adventure     -0.020175      1.000000  -0.048411 -0.010426  -0.092656   \n",
       "is_casual        -0.157151     -0.048411   1.000000 -0.041306   0.006160   \n",
       "is_mmo            0.059040     -0.010426  -0.041306  1.000000   0.010433   \n",
       "is_racing         0.064823     -0.092656   0.006160  0.010433   1.000000   \n",
       "is_rpg           -0.021262      0.167196  -0.128059  0.130331  -0.074213   \n",
       "is_simulation    -0.141926     -0.117162   0.072131  0.018598   0.061803   \n",
       "is_sports         0.034770     -0.142767   0.025331 -0.012043   0.262873   \n",
       "is_strategy      -0.189737     -0.189854  -0.016558  0.053829  -0.068010   \n",
       "\n",
       "                   is_rpg  is_simulation  is_sports  is_strategy  \n",
       "num_pre          0.088749       0.117715   0.036068     0.109216  \n",
       "num_post         0.157441       0.173635   0.020404     0.109764  \n",
       "mean_time       -0.081437      -0.109501  -0.040601    -0.089337  \n",
       "release_date    -0.043538      -0.128894  -0.031259    -0.000121  \n",
       "len_description  0.161720       0.136916   0.047253     0.159944  \n",
       "num_movies       0.021864       0.042528   0.050857     0.007345  \n",
       "num_images       0.084556       0.102679   0.023148     0.096694  \n",
       "score           -0.055914      -0.137796  -0.033981    -0.139392  \n",
       "num_reviews      0.049785       0.020566  -0.033838     0.008918  \n",
       "sentiment       -0.040414      -0.119550  -0.019350    -0.103530  \n",
       "is_action       -0.021262      -0.141926   0.034770    -0.189737  \n",
       "is_adventure     0.167196      -0.117162  -0.142767    -0.189854  \n",
       "is_casual       -0.128059       0.072131   0.025331    -0.016558  \n",
       "is_mmo           0.130331       0.018598  -0.012043     0.053829  \n",
       "is_racing       -0.074213       0.061803   0.262873    -0.068010  \n",
       "is_rpg           1.000000      -0.013848  -0.073908     0.113517  \n",
       "is_simulation   -0.013848       1.000000   0.135415     0.194813  \n",
       "is_sports       -0.073908       0.135415   1.000000    -0.016234  \n",
       "is_strategy      0.113517       0.194813  -0.016234     1.000000  "
      ]
     },
     "execution_count": 177,
     "metadata": {},
     "output_type": "execute_result"
    }
   ],
   "source": [
    "# rescaling some variables\n",
    "data['num_pre'] = np.log(1 + 100*data['num_pre'])\n",
    "data['num_post'] = np.log(1 + 200*data['num_post'])\n",
    "data['mean_time'] = np.log(1 + 200*data['mean_time'])\n",
    "data['score'] = np.log(1 + data['score'])\n",
    "data['num_reviews'] = np.log(data['num_reviews'])\n",
    "\n",
    "data['num_pre'] = (data['num_pre'] - data['num_pre'].mean()) / data['num_pre'].std()\n",
    "data['num_post'] = (data['num_post'] - data['num_post'].mean()) / data['num_post'].std()\n",
    "data['mean_time'] = (data['mean_time'] - data['mean_time'].mean()) / data['mean_time'].std()\n",
    "data['score'] = (data['score'] - data['score'].mean()) / data['score'].std()\n",
    "data['num_reviews'] = (data['num_reviews'] - data['num_reviews'].mean()) / data['num_reviews'].std()\n",
    "\n",
    "\n",
    "data.corr(method='spearman')"
   ]
  },
  {
   "cell_type": "markdown",
   "metadata": {},
   "source": [
    "We have modified the number of total reviews by the score to get the total number of positive reviews. We then penalize this by a factor that takes into account how long the game has been released: in general, it makes a good (bad) score even better (worse) if it has been released for a long time.\n",
    "\n",
    "This modified score is in essence also a proxy for sentiment rating / % positive score (we don't just want to fit to the total number of reviews as is, since it's indicative of how many people have rated the game, but not the cumulative rating).\n",
    "\n",
    "Looking at the correlations, we only found two variables that weakly correlate with this modified score. We'll try to fit them with some regression models below."
   ]
  },
  {
   "cell_type": "code",
   "execution_count": 178,
   "metadata": {},
   "outputs": [],
   "source": [
    "data_pos = data[data['sentiment']==1]\n",
    "data_mixed = data[data['sentiment']==0]\n",
    "data_neg = data[data['sentiment']==-1]"
   ]
  },
  {
   "cell_type": "code",
   "execution_count": 179,
   "metadata": {},
   "outputs": [
    {
     "name": "stdout",
     "output_type": "stream",
     "text": [
      "-0.2844542647510309 0.8950944242505998\n",
      "-0.07049659130028671 1.0342239503478743\n",
      "0.03883330318746327 0.9864388862587041\n"
     ]
    },
    {
     "data": {
      "image/png": "[encoded data removed]",
      "text/plain": [
       "<Figure size 432x288 with 1 Axes>"
      ]
     },
     "metadata": {
      "needs_background": "light"
     },
     "output_type": "display_data"
    }
   ],
   "source": [
    "data.loc[data['sentiment']==-1]['num_post'].hist(bins=100, range=(-10, 10),density=True,color='red')\n",
    "data.loc[data['sentiment']==1]['num_post'].hist(bins=100, range=(-10, 10), density=True, color='blue')\n",
    "data.loc[data['sentiment']==0]['num_post'].hist(bins=100, range=(-10, 10),density=True,color='green')\n",
    "\n",
    "\n",
    "print(data.loc[data['sentiment']==-1]['num_post'].mean(), data.loc[data['sentiment']==-1]['num_post'].var())\n",
    "print(data.loc[data['sentiment']==0]['num_post'].mean(), data.loc[data['sentiment']==0]['num_post'].var())\n",
    "print(data.loc[data['sentiment']==1]['num_post'].mean(), data.loc[data['sentiment']==1]['num_post'].var())"
   ]
  },
  {
   "cell_type": "code",
   "execution_count": 180,
   "metadata": {},
   "outputs": [
    {
     "name": "stdout",
     "output_type": "stream",
     "text": [
      "0.06419795511477659 1.1306089670537067\n",
      "0.03360971236072624 1.0555524608851627\n",
      "-0.014948961563169043 0.9737459649268854\n"
     ]
    },
    {
     "data": {
      "image/png": "[encoded data removed]",
      "text/plain": [
       "<Figure size 432x288 with 1 Axes>"
      ]
     },
     "metadata": {
      "needs_background": "light"
     },
     "output_type": "display_data"
    }
   ],
   "source": [
    "# this doesn't normalize well...\n",
    "data.loc[data['sentiment']==-1]['num_pre'].hist(bins=100, range=(-3, 3),density=True,color='red')\n",
    "data.loc[data['sentiment']==1]['num_pre'].hist(bins=100, range=(-3, 3), density=True, color='blue')\n",
    "data.loc[data['sentiment']==0]['num_pre'].hist(bins=100, range=(-3, 3),density=True,color='green')\n",
    "\n",
    "\n",
    "print(data.loc[data['sentiment']==-1]['num_pre'].mean(), data.loc[data['sentiment']==-1]['num_pre'].var())\n",
    "print(data.loc[data['sentiment']==0]['num_pre'].mean(), data.loc[data['sentiment']==0]['num_pre'].var())\n",
    "print(data.loc[data['sentiment']==1]['num_pre'].mean(), data.loc[data['sentiment']==1]['num_pre'].var())"
   ]
  },
  {
   "cell_type": "code",
   "execution_count": 181,
   "metadata": {},
   "outputs": [
    {
     "name": "stdout",
     "output_type": "stream",
     "text": [
      "-0.2353325504157946 0.8950944242505998\n",
      "-0.08021447201287084 1.0342239503478743\n",
      "0.03977693956785817 0.9864388862587041\n"
     ]
    },
    {
     "data": {
      "image/png": "[encoded data removed]",
      "text/plain": [
       "<Figure size 432x288 with 1 Axes>"
      ]
     },
     "metadata": {
      "needs_background": "light"
     },
     "output_type": "display_data"
    }
   ],
   "source": [
    "data.loc[data['sentiment']==-1]['mean_time'].hist(bins=60, range=(-3, 3),density=True,color='red')\n",
    "data.loc[data['sentiment']==1]['mean_time'].hist(bins=60, range=(-3, 3), density=True, color='blue')\n",
    "data.loc[data['sentiment']==0]['mean_time'].hist(bins=60, range=(-3, 3),density=True,color='green')\n",
    "\n",
    "\n",
    "print(data.loc[data['sentiment']==-1]['mean_time'].mean(), data.loc[data['sentiment']==-1]['num_post'].var())\n",
    "print(data.loc[data['sentiment']==0]['mean_time'].mean(), data.loc[data['sentiment']==0]['num_post'].var())\n",
    "print(data.loc[data['sentiment']==1]['mean_time'].mean(), data.loc[data['sentiment']==1]['num_post'].var())"
   ]
  },
  {
   "cell_type": "markdown",
   "metadata": {},
   "source": [
    "<b> Try fitting the data to the modified score, which is basically the raw number of positive interaction penalized by the amount of time a game has been released. </b>\n",
    "\n",
    "Try first with simple regression, then a Random Forest:"
   ]
  },
  {
   "cell_type": "code",
   "execution_count": 222,
   "metadata": {},
   "outputs": [],
   "source": [
    "from sklearn.ensemble import RandomForestRegressor\n",
    "from sklearn.tree import DecisionTreeRegressor\n",
    "from sklearn.linear_model import Ridge\n",
    "from sklearn.model_selection import train_test_split\n",
    "from sklearn.metrics import r2_score\n",
    "from collections import Counter\n",
    "\n",
    "X = data[['num_post','num_pre','mean_time']].values\n",
    "Y = data['num_reviews'].values.reshape(-1,1)\n"
   ]
  },
  {
   "cell_type": "code",
   "execution_count": 223,
   "metadata": {},
   "outputs": [
    {
     "name": "stdout",
     "output_type": "stream",
     "text": [
      "-7.065355825268696\n"
     ]
    },
    {
     "data": {
      "image/png": "[encoded data removed]",
      "text/plain": [
       "<Figure size 432x288 with 1 Axes>"
      ]
     },
     "metadata": {
      "needs_background": "light"
     },
     "output_type": "display_data"
    }
   ],
   "source": [
    "x_train, x_test, y_train, y_test = train_test_split(X, Y, test_size = 0.2)\n",
    "\n",
    "ridge = Ridge(alpha=0.1)\n",
    "ridge.fit(x_train, y_train.ravel())\n",
    "\n",
    "y_pred = ridge.predict(x_test)\n",
    "print(r2_score(y_pred, y_test.ravel()))\n",
    "\n",
    "plt.scatter(y_pred, y_test.ravel())\n",
    "plt.title('linear regression results')\n",
    "plt.xlabel('predicted log (num reviews)');\n",
    "plt.ylabel('actual log (num reviews)');"
   ]
  },
  {
   "cell_type": "code",
   "execution_count": 236,
   "metadata": {},
   "outputs": [
    {
     "name": "stdout",
     "output_type": "stream",
     "text": [
      "-0.6377117472308893\n"
     ]
    },
    {
     "data": {
      "image/png": "[encoded data removed]",
      "text/plain": [
       "<Figure size 432x288 with 1 Axes>"
      ]
     },
     "metadata": {
      "needs_background": "light"
     },
     "output_type": "display_data"
    }
   ],
   "source": [
    "x_train, x_test, y_train, y_test = train_test_split(X, Y, test_size = 0.2)\n",
    "\n",
    "dtr = DecisionTreeRegressor(max_depth=100)\n",
    "dtr.fit(x_train, y_train.ravel())\n",
    "\n",
    "y_pred = dtr.predict(x_test)\n",
    "print(r2_score(y_pred, y_test.ravel()))\n",
    "\n",
    "plt.scatter(y_pred, y_test.ravel())\n",
    "plt.title('decision tree results')\n",
    "plt.xlabel('predicted log (num reviews)');\n",
    "plt.ylabel('actual log (num reviews)');"
   ]
  },
  {
   "cell_type": "code",
   "execution_count": 225,
   "metadata": {},
   "outputs": [
    {
     "name": "stdout",
     "output_type": "stream",
     "text": [
      "-1.0666242246877018\n"
     ]
    },
    {
     "data": {
      "image/png": "[encoded data removed]",
      "text/plain": [
       "<Figure size 432x288 with 1 Axes>"
      ]
     },
     "metadata": {
      "needs_background": "light"
     },
     "output_type": "display_data"
    }
   ],
   "source": [
    "x_train, x_test, y_train, y_test = train_test_split(X, Y, test_size = 0.2)\n",
    "\n",
    "rfr = RandomForestRegressor(n_estimators=3, max_depth=100, bootstrap=True)\n",
    "rfr.fit(x_train, y_train.ravel())\n",
    "\n",
    "y_pred = rfr.predict(x_test)\n",
    "print(r2_score(y_pred, y_test.ravel()))\n",
    "\n",
    "plt.scatter(y_pred, y_test.ravel())\n",
    "plt.title('random forest results')\n",
    "plt.xlabel('predicted log (num reviews)');\n",
    "plt.ylabel('actual log (num reviews)');"
   ]
  },
  {
   "cell_type": "markdown",
   "metadata": {},
   "source": [
    "<b> While single decision tree tries not to overfit the predictor variables (the Random Forest with more than one tree, gets worse R2 score...), the variance of the model doesn't capture the true values."
   ]
  },
  {
   "cell_type": "code",
   "execution_count": null,
   "metadata": {},
   "outputs": [],
   "source": []
  }
 ],
 "metadata": {
  "kernelspec": {
   "display_name": "Python 3",
   "language": "python",
   "name": "python3"
  },
  "language_info": {
   "codemirror_mode": {
    "name": "ipython",
    "version": 3
   },
   "file_extension": ".py",
   "mimetype": "text/x-python",
   "name": "python",
   "nbconvert_exporter": "python",
   "pygments_lexer": "ipython3",
   "version": "3.6.7"
  }
 },
 "nbformat": 4,
 "nbformat_minor": 2
}
