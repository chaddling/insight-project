{
 "cells": [
  {
   "cell_type": "markdown",
   "metadata": {},
   "source": [
    "Testing the effect of using SMOTE oversampling in a cross-validation scenario."
   ]
  },
  {
   "cell_type": "code",
   "execution_count": 144,
   "metadata": {},
   "outputs": [],
   "source": [
    "import numpy as np\n",
    "\n",
    "from sklearn.datasets import make_classification\n",
    "from sklearn.metrics import f1_score\n",
    "from sklearn.dummy import DummyClassifier\n",
    "from sklearn.linear_model import LogisticRegression\n",
    "from sklearn.model_selection import GridSearchCV, StratifiedKFold, train_test_split\n",
    "from imblearn.over_sampling import SMOTE\n",
    "from imblearn.pipeline import Pipeline"
   ]
  },
  {
   "cell_type": "code",
   "execution_count": 127,
   "metadata": {},
   "outputs": [],
   "source": [
    "# initialize the data set\n",
    "X, y = make_classification(n_samples=10000, n_features=10, n_informative = 8, weights=[0.8], n_repeated=0, n_classes=2)"
   ]
  },
  {
   "cell_type": "code",
   "execution_count": 160,
   "metadata": {},
   "outputs": [],
   "source": [
    "# initialize two types of guessing strategies\n",
    "dummy_constant = DummyClassifier(strategy='constant', constant=0)\n",
    "dummy_uniform = DummyClassifier(strategy='uniform')\n",
    "dummy_strat = DummyClassifier(strategy='stratified')\n",
    "\n",
    "clf = "
   ]
  },
  {
   "cell_type": "code",
   "execution_count": 176,
   "metadata": {},
   "outputs": [],
   "source": [
    "kf = StratifiedKFold(n_splits=10)\n",
    "\n",
    "sm = SMOTE()\n",
    "pipeline_constant = Pipeline([('dum_strat', dummy_constant)])\n",
    "pipeline_constant_oversample = Pipeline([('sm', sm), ('dum_strat', dummy_constant)])\n",
    "\n",
    "pipeline_uniform = Pipeline([('dum_strat', dummy_uniform)])\n",
    "pipeline_uniform_oversample = Pipeline([('sm', sm), ('dum_strat', dummy_uniform)])\n",
    "\n",
    "pipeline_strat = Pipeline([('dum_strat', dummy_strat)])\n",
    "pipeline_strat_oversample = Pipeline([('sm', sm), ('dum_strat', dummy_strat)])"
   ]
  },
  {
   "cell_type": "code",
   "execution_count": 182,
   "metadata": {},
   "outputs": [
    {
     "data": {
      "text/plain": [
       "{'mean_fit_time': array([0.0014436]),\n",
       " 'std_fit_time': array([0.00039714]),\n",
       " 'mean_score_time': array([0.00171268]),\n",
       " 'std_score_time': array([0.00051814]),\n",
       " 'params': [{}],\n",
       " 'split0_test_score': array([0.68731269]),\n",
       " 'split1_test_score': array([0.64135864]),\n",
       " 'split2_test_score': array([0.673]),\n",
       " 'split3_test_score': array([0.669]),\n",
       " 'split4_test_score': array([0.674]),\n",
       " 'split5_test_score': array([0.688]),\n",
       " 'split6_test_score': array([0.69]),\n",
       " 'split7_test_score': array([0.671]),\n",
       " 'split8_test_score': array([0.66766767]),\n",
       " 'split9_test_score': array([0.66666667]),\n",
       " 'mean_test_score': array([0.6728]),\n",
       " 'std_test_score': array([0.01345478]),\n",
       " 'rank_test_score': array([1], dtype=int32),\n",
       " 'split0_train_score': array([0.67285254]),\n",
       " 'split1_train_score': array([0.67207467]),\n",
       " 'split2_train_score': array([0.67377778]),\n",
       " 'split3_train_score': array([0.67155556]),\n",
       " 'split4_train_score': array([0.67133333]),\n",
       " 'split5_train_score': array([0.67655556]),\n",
       " 'split6_train_score': array([0.66955556]),\n",
       " 'split7_train_score': array([0.67622222]),\n",
       " 'split8_train_score': array([0.67214754]),\n",
       " 'split9_train_score': array([0.67714698]),\n",
       " 'mean_train_score': array([0.67332217]),\n",
       " 'std_train_score': array([0.00241085])}"
      ]
     },
     "execution_count": 182,
     "metadata": {},
     "output_type": "execute_result"
    }
   ],
   "source": [
    "grid = GridSearchCV(estimator=pipeline_strat,\n",
    "                    param_grid = {},\n",
    "                    scoring='f1_micro',\n",
    "                    cv=kf,\n",
    "                    return_train_score=True)\n",
    "\n",
    "grid.fit(X, y);\n",
    "grid.cv_results_"
   ]
  },
  {
   "cell_type": "code",
   "execution_count": 181,
   "metadata": {},
   "outputs": [
    {
     "data": {
      "text/plain": [
       "{'mean_fit_time': array([0.07127502]),\n",
       " 'std_fit_time': array([0.00729249]),\n",
       " 'mean_score_time': array([0.0012974]),\n",
       " 'std_score_time': array([0.00022137]),\n",
       " 'params': [{}],\n",
       " 'split0_test_score': array([0.4985015]),\n",
       " 'split1_test_score': array([0.47952048]),\n",
       " 'split2_test_score': array([0.488]),\n",
       " 'split3_test_score': array([0.516]),\n",
       " 'split4_test_score': array([0.508]),\n",
       " 'split5_test_score': array([0.485]),\n",
       " 'split6_test_score': array([0.497]),\n",
       " 'split7_test_score': array([0.473]),\n",
       " 'split8_test_score': array([0.5035035]),\n",
       " 'split9_test_score': array([0.51151151]),\n",
       " 'mean_test_score': array([0.496]),\n",
       " 'std_test_score': array([0.0135415]),\n",
       " 'rank_test_score': array([1], dtype=int32),\n",
       " 'split0_train_score': array([0.49916657]),\n",
       " 'split1_train_score': array([0.49716635]),\n",
       " 'split2_train_score': array([0.49833333]),\n",
       " 'split3_train_score': array([0.49444444]),\n",
       " 'split4_train_score': array([0.50188889]),\n",
       " 'split5_train_score': array([0.48788889]),\n",
       " 'split6_train_score': array([0.49844444]),\n",
       " 'split7_train_score': array([0.49611111]),\n",
       " 'split8_train_score': array([0.49950006]),\n",
       " 'split9_train_score': array([0.49138985]),\n",
       " 'mean_train_score': array([0.49643339]),\n",
       " 'std_train_score': array([0.00396654])}"
      ]
     },
     "execution_count": 181,
     "metadata": {},
     "output_type": "execute_result"
    }
   ],
   "source": [
    "grid = GridSearchCV(estimator=pipeline_strat_oversample,\n",
    "                    param_grid = {},\n",
    "                    scoring='f1_micro',\n",
    "                    cv=kf,\n",
    "                    return_train_score=True)\n",
    "\n",
    "grid.fit(X, y);\n",
    "grid.cv_results_"
   ]
  },
  {
   "cell_type": "code",
   "execution_count": 170,
   "metadata": {},
   "outputs": [
    {
     "data": {
      "text/plain": [
       "0.5031411967959792"
      ]
     },
     "execution_count": 170,
     "metadata": {},
     "output_type": "execute_result"
    }
   ],
   "source": [
    "X_train, X_test, y_train, y_test = train_test_split(X, y, test_size=0.2)\n",
    "\n",
    "\n",
    "X_train, y_train = SMOTE().fit_resample(X_train, y_train)\n",
    "y_pred = dummy_strat.fit(X_train, y_train).predict(X_train)\n",
    "\n",
    "f1_score(y_train, y_pred, average='micro')\n"
   ]
  },
  {
   "cell_type": "code",
   "execution_count": null,
   "metadata": {},
   "outputs": [],
   "source": []
  }
 ],
 "metadata": {
  "kernelspec": {
   "display_name": "Python 3",
   "language": "python",
   "name": "python3"
  },
  "language_info": {
   "codemirror_mode": {
    "name": "ipython",
    "version": 3
   },
   "file_extension": ".py",
   "mimetype": "text/x-python",
   "name": "python",
   "nbconvert_exporter": "python",
   "pygments_lexer": "ipython3",
   "version": "3.6.7"
  }
 },
 "nbformat": 4,
 "nbformat_minor": 2
}
