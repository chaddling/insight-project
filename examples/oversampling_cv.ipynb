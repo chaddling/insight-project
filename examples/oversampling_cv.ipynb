{
 "cells": [
  {
   "cell_type": "markdown",
   "metadata": {},
   "source": [
    "Testing the behaviour of SMOTE oversampling in a cross-validation scenario."
   ]
  },
  {
   "cell_type": "code",
   "execution_count": 183,
   "metadata": {},
   "outputs": [],
   "source": [
    "import numpy as np\n",
    "\n",
    "from sklearn.datasets import make_classification\n",
    "from sklearn.metrics import f1_score\n",
    "from sklearn.dummy import DummyClassifier\n",
    "from sklearn.linear_model import LogisticRegression\n",
    "from sklearn.model_selection import GridSearchCV, StratifiedKFold, train_test_split\n",
    "from imblearn.over_sampling import SMOTE\n",
    "from imblearn.pipeline import Pipeline"
   ]
  },
  {
   "cell_type": "code",
   "execution_count": 184,
   "metadata": {},
   "outputs": [],
   "source": [
    "# initialize the data set\n",
    "X, y = make_classification(n_samples=10000, n_features=10, n_informative = 8, weights=[0.8], n_repeated=0, n_classes=2)"
   ]
  },
  {
   "cell_type": "code",
   "execution_count": 209,
   "metadata": {},
   "outputs": [],
   "source": [
    "# initialize some guessing strategies\n",
    "dummy_constant = DummyClassifier(strategy='constant', constant=0)\n",
    "dummy_uniform = DummyClassifier(strategy='uniform')\n",
    "dummy_strat = DummyClassifier(strategy='stratified')\n",
    "\n",
    "clf = LogisticRegression(penalty='l2', solver='lbfgs')"
   ]
  },
  {
   "cell_type": "code",
   "execution_count": 190,
   "metadata": {},
   "outputs": [],
   "source": [
    "kf = StratifiedKFold(n_splits=10)\n",
    "\n",
    "sm = SMOTE()\n",
    "pipeline_constant = Pipeline([('dum_strat', dummy_constant)])\n",
    "pipeline_constant_oversample = Pipeline([('sm', sm), ('dum_strat', dummy_constant)])\n",
    "\n",
    "pipeline_uniform = Pipeline([('dum_strat', dummy_uniform)])\n",
    "pipeline_uniform_oversample = Pipeline([('sm', sm), ('dum_strat', dummy_uniform)])\n",
    "\n",
    "pipeline_strat = Pipeline([('dum_strat', dummy_strat)])\n",
    "pipeline_strat_oversample = Pipeline([('sm', sm), ('dum_strat', dummy_strat)])\n",
    "\n",
    "pipeline_clf = Pipeline([('clf', clf)])\n",
    "pipeline_clf_oversample = Pipeline([('sm', sm), ('clf', clf)])"
   ]
  },
  {
   "cell_type": "code",
   "execution_count": 191,
   "metadata": {},
   "outputs": [
    {
     "data": {
      "text/plain": [
       "{'mean_fit_time': array([0.00136323]),\n",
       " 'std_fit_time': array([0.00061661]),\n",
       " 'mean_score_time': array([0.0013562]),\n",
       " 'std_score_time': array([0.0003798]),\n",
       " 'params': [{}],\n",
       " 'split0_test_score': array([0.6953047]),\n",
       " 'split1_test_score': array([0.67932068]),\n",
       " 'split2_test_score': array([0.66533467]),\n",
       " 'split3_test_score': array([0.68331668]),\n",
       " 'split4_test_score': array([0.672]),\n",
       " 'split5_test_score': array([0.695]),\n",
       " 'split6_test_score': array([0.68568569]),\n",
       " 'split7_test_score': array([0.65965966]),\n",
       " 'split8_test_score': array([0.67467467]),\n",
       " 'split9_test_score': array([0.68668669]),\n",
       " 'mean_test_score': array([0.6797]),\n",
       " 'std_test_score': array([0.01126027]),\n",
       " 'rank_test_score': array([1], dtype=int32),\n",
       " 'split0_train_score': array([0.67818647]),\n",
       " 'split1_train_score': array([0.68007556]),\n",
       " 'split2_train_score': array([0.67774197]),\n",
       " 'split3_train_score': array([0.67540838]),\n",
       " 'split4_train_score': array([0.67422222]),\n",
       " 'split5_train_score': array([0.67655556]),\n",
       " 'split6_train_score': array([0.67892456]),\n",
       " 'split7_train_score': array([0.67981335]),\n",
       " 'split8_train_score': array([0.67870237]),\n",
       " 'split9_train_score': array([0.67648039]),\n",
       " 'mean_train_score': array([0.67761108]),\n",
       " 'std_train_score': array([0.0018143])}"
      ]
     },
     "execution_count": 191,
     "metadata": {},
     "output_type": "execute_result"
    }
   ],
   "source": [
    "grid = GridSearchCV(estimator=pipeline_strat,\n",
    "                    param_grid = {},\n",
    "                    scoring='f1_micro',\n",
    "                    cv=kf,\n",
    "                    return_train_score=True)\n",
    "\n",
    "grid.fit(X, y);\n",
    "grid.cv_results_"
   ]
  },
  {
   "cell_type": "code",
   "execution_count": 181,
   "metadata": {},
   "outputs": [
    {
     "data": {
      "text/plain": [
       "{'mean_fit_time': array([0.07127502]),\n",
       " 'std_fit_time': array([0.00729249]),\n",
       " 'mean_score_time': array([0.0012974]),\n",
       " 'std_score_time': array([0.00022137]),\n",
       " 'params': [{}],\n",
       " 'split0_test_score': array([0.4985015]),\n",
       " 'split1_test_score': array([0.47952048]),\n",
       " 'split2_test_score': array([0.488]),\n",
       " 'split3_test_score': array([0.516]),\n",
       " 'split4_test_score': array([0.508]),\n",
       " 'split5_test_score': array([0.485]),\n",
       " 'split6_test_score': array([0.497]),\n",
       " 'split7_test_score': array([0.473]),\n",
       " 'split8_test_score': array([0.5035035]),\n",
       " 'split9_test_score': array([0.51151151]),\n",
       " 'mean_test_score': array([0.496]),\n",
       " 'std_test_score': array([0.0135415]),\n",
       " 'rank_test_score': array([1], dtype=int32),\n",
       " 'split0_train_score': array([0.49916657]),\n",
       " 'split1_train_score': array([0.49716635]),\n",
       " 'split2_train_score': array([0.49833333]),\n",
       " 'split3_train_score': array([0.49444444]),\n",
       " 'split4_train_score': array([0.50188889]),\n",
       " 'split5_train_score': array([0.48788889]),\n",
       " 'split6_train_score': array([0.49844444]),\n",
       " 'split7_train_score': array([0.49611111]),\n",
       " 'split8_train_score': array([0.49950006]),\n",
       " 'split9_train_score': array([0.49138985]),\n",
       " 'mean_train_score': array([0.49643339]),\n",
       " 'std_train_score': array([0.00396654])}"
      ]
     },
     "execution_count": 181,
     "metadata": {},
     "output_type": "execute_result"
    }
   ],
   "source": [
    "grid = GridSearchCV(estimator=pipeline_strat_oversample,\n",
    "                    param_grid = {},\n",
    "                    scoring='f1_micro',\n",
    "                    cv=kf,\n",
    "                    return_train_score=True)\n",
    "\n",
    "grid.fit(X, y);\n",
    "grid.cv_results_"
   ]
  },
  {
   "cell_type": "markdown",
   "metadata": {},
   "source": [
    "Why is the training and testing score the same when oversampling?"
   ]
  },
  {
   "cell_type": "code",
   "execution_count": 170,
   "metadata": {},
   "outputs": [
    {
     "data": {
      "text/plain": [
       "0.5031411967959792"
      ]
     },
     "execution_count": 170,
     "metadata": {},
     "output_type": "execute_result"
    }
   ],
   "source": [
    "X_train, X_test, y_train, y_test = train_test_split(X, y, test_size=0.2)\n",
    "\n",
    "\n",
    "X_train, y_train = SMOTE().fit_resample(X_train, y_train)\n",
    "y_pred = dummy_strat.fit(X_train, y_train).predict(X_train)\n",
    "\n",
    "f1_score(y_train, y_pred, average='micro')\n"
   ]
  },
  {
   "cell_type": "code",
   "execution_count": 208,
   "metadata": {},
   "outputs": [
    {
     "name": "stderr",
     "output_type": "stream",
     "text": [
      "/home/cgu/anaconda3/envs/cgu-py36/lib/python3.6/site-packages/sklearn/linear_model/logistic.py:432: FutureWarning: Default solver will be changed to 'lbfgs' in 0.22. Specify a solver to silence this warning.\n",
      "  FutureWarning)\n",
      "/home/cgu/anaconda3/envs/cgu-py36/lib/python3.6/site-packages/sklearn/linear_model/logistic.py:432: FutureWarning: Default solver will be changed to 'lbfgs' in 0.22. Specify a solver to silence this warning.\n",
      "  FutureWarning)\n",
      "/home/cgu/anaconda3/envs/cgu-py36/lib/python3.6/site-packages/sklearn/linear_model/logistic.py:432: FutureWarning: Default solver will be changed to 'lbfgs' in 0.22. Specify a solver to silence this warning.\n",
      "  FutureWarning)\n",
      "/home/cgu/anaconda3/envs/cgu-py36/lib/python3.6/site-packages/sklearn/linear_model/logistic.py:432: FutureWarning: Default solver will be changed to 'lbfgs' in 0.22. Specify a solver to silence this warning.\n",
      "  FutureWarning)\n",
      "/home/cgu/anaconda3/envs/cgu-py36/lib/python3.6/site-packages/sklearn/linear_model/logistic.py:432: FutureWarning: Default solver will be changed to 'lbfgs' in 0.22. Specify a solver to silence this warning.\n",
      "  FutureWarning)\n",
      "/home/cgu/anaconda3/envs/cgu-py36/lib/python3.6/site-packages/sklearn/linear_model/logistic.py:432: FutureWarning: Default solver will be changed to 'lbfgs' in 0.22. Specify a solver to silence this warning.\n",
      "  FutureWarning)\n",
      "/home/cgu/anaconda3/envs/cgu-py36/lib/python3.6/site-packages/sklearn/linear_model/logistic.py:432: FutureWarning: Default solver will be changed to 'lbfgs' in 0.22. Specify a solver to silence this warning.\n",
      "  FutureWarning)\n",
      "/home/cgu/anaconda3/envs/cgu-py36/lib/python3.6/site-packages/sklearn/linear_model/logistic.py:432: FutureWarning: Default solver will be changed to 'lbfgs' in 0.22. Specify a solver to silence this warning.\n",
      "  FutureWarning)\n",
      "/home/cgu/anaconda3/envs/cgu-py36/lib/python3.6/site-packages/sklearn/linear_model/logistic.py:432: FutureWarning: Default solver will be changed to 'lbfgs' in 0.22. Specify a solver to silence this warning.\n",
      "  FutureWarning)\n",
      "/home/cgu/anaconda3/envs/cgu-py36/lib/python3.6/site-packages/sklearn/linear_model/logistic.py:432: FutureWarning: Default solver will be changed to 'lbfgs' in 0.22. Specify a solver to silence this warning.\n",
      "  FutureWarning)\n",
      "/home/cgu/anaconda3/envs/cgu-py36/lib/python3.6/site-packages/sklearn/linear_model/logistic.py:432: FutureWarning: Default solver will be changed to 'lbfgs' in 0.22. Specify a solver to silence this warning.\n",
      "  FutureWarning)\n"
     ]
    },
    {
     "data": {
      "text/plain": [
       "{'mean_fit_time': array([0.95241671]),\n",
       " 'std_fit_time': array([0.37765972]),\n",
       " 'mean_score_time': array([0.00237074]),\n",
       " 'std_score_time': array([0.00028251]),\n",
       " 'params': [{}],\n",
       " 'split0_test_score': array([0.9039548]),\n",
       " 'split1_test_score': array([0.87234043]),\n",
       " 'split2_test_score': array([0.89444444]),\n",
       " 'split3_test_score': array([0.828125]),\n",
       " 'split4_test_score': array([0.8556701]),\n",
       " 'split5_test_score': array([0.78787879]),\n",
       " 'split6_test_score': array([0.82105263]),\n",
       " 'split7_test_score': array([0.82439024]),\n",
       " 'split8_test_score': array([0.83248731]),\n",
       " 'split9_test_score': array([0.82673267]),\n",
       " 'mean_test_score': array([0.84472706]),\n",
       " 'std_test_score': array([0.03438399]),\n",
       " 'rank_test_score': array([1], dtype=int32),\n",
       " 'split0_train_score': array([0.84006928]),\n",
       " 'split1_train_score': array([0.84219653]),\n",
       " 'split2_train_score': array([0.84268363]),\n",
       " 'split3_train_score': array([0.84677419]),\n",
       " 'split4_train_score': array([0.8433526]),\n",
       " 'split5_train_score': array([0.84761357]),\n",
       " 'split6_train_score': array([0.84890427]),\n",
       " 'split7_train_score': array([0.84642234]),\n",
       " 'split8_train_score': array([0.84521739]),\n",
       " 'split9_train_score': array([0.84477784]),\n",
       " 'mean_train_score': array([0.84480117]),\n",
       " 'std_train_score': array([0.00259224])}"
      ]
     },
     "execution_count": 208,
     "metadata": {},
     "output_type": "execute_result"
    }
   ],
   "source": [
    "grid = GridSearchCV(estimator=pipeline_clf,\n",
    "                    param_grid = {},\n",
    "                    scoring='precision',\n",
    "                    cv=kf,\n",
    "                    return_train_score=True)\n",
    "\n",
    "grid.fit(X, y);\n",
    "grid.cv_results_"
   ]
  },
  {
   "cell_type": "code",
   "execution_count": 197,
   "metadata": {},
   "outputs": [
    {
     "name": "stderr",
     "output_type": "stream",
     "text": [
      "/home/cgu/anaconda3/envs/cgu-py36/lib/python3.6/site-packages/sklearn/linear_model/logistic.py:432: FutureWarning: Default solver will be changed to 'lbfgs' in 0.22. Specify a solver to silence this warning.\n",
      "  FutureWarning)\n",
      "/home/cgu/anaconda3/envs/cgu-py36/lib/python3.6/site-packages/sklearn/linear_model/logistic.py:432: FutureWarning: Default solver will be changed to 'lbfgs' in 0.22. Specify a solver to silence this warning.\n",
      "  FutureWarning)\n",
      "/home/cgu/anaconda3/envs/cgu-py36/lib/python3.6/site-packages/sklearn/linear_model/logistic.py:432: FutureWarning: Default solver will be changed to 'lbfgs' in 0.22. Specify a solver to silence this warning.\n",
      "  FutureWarning)\n",
      "/home/cgu/anaconda3/envs/cgu-py36/lib/python3.6/site-packages/sklearn/linear_model/logistic.py:432: FutureWarning: Default solver will be changed to 'lbfgs' in 0.22. Specify a solver to silence this warning.\n",
      "  FutureWarning)\n",
      "/home/cgu/anaconda3/envs/cgu-py36/lib/python3.6/site-packages/sklearn/linear_model/logistic.py:432: FutureWarning: Default solver will be changed to 'lbfgs' in 0.22. Specify a solver to silence this warning.\n",
      "  FutureWarning)\n",
      "/home/cgu/anaconda3/envs/cgu-py36/lib/python3.6/site-packages/sklearn/linear_model/logistic.py:432: FutureWarning: Default solver will be changed to 'lbfgs' in 0.22. Specify a solver to silence this warning.\n",
      "  FutureWarning)\n",
      "/home/cgu/anaconda3/envs/cgu-py36/lib/python3.6/site-packages/sklearn/linear_model/logistic.py:432: FutureWarning: Default solver will be changed to 'lbfgs' in 0.22. Specify a solver to silence this warning.\n",
      "  FutureWarning)\n",
      "/home/cgu/anaconda3/envs/cgu-py36/lib/python3.6/site-packages/sklearn/linear_model/logistic.py:432: FutureWarning: Default solver will be changed to 'lbfgs' in 0.22. Specify a solver to silence this warning.\n",
      "  FutureWarning)\n",
      "/home/cgu/anaconda3/envs/cgu-py36/lib/python3.6/site-packages/sklearn/linear_model/logistic.py:432: FutureWarning: Default solver will be changed to 'lbfgs' in 0.22. Specify a solver to silence this warning.\n",
      "  FutureWarning)\n",
      "/home/cgu/anaconda3/envs/cgu-py36/lib/python3.6/site-packages/sklearn/linear_model/logistic.py:432: FutureWarning: Default solver will be changed to 'lbfgs' in 0.22. Specify a solver to silence this warning.\n",
      "  FutureWarning)\n",
      "/home/cgu/anaconda3/envs/cgu-py36/lib/python3.6/site-packages/sklearn/linear_model/logistic.py:432: FutureWarning: Default solver will be changed to 'lbfgs' in 0.22. Specify a solver to silence this warning.\n",
      "  FutureWarning)\n"
     ]
    },
    {
     "data": {
      "text/plain": [
       "{'mean_fit_time': array([0.16963615]),\n",
       " 'std_fit_time': array([0.02870385]),\n",
       " 'mean_score_time': array([0.0025419]),\n",
       " 'std_score_time': array([0.00075992]),\n",
       " 'params': [{}],\n",
       " 'split0_test_score': array([0.7]),\n",
       " 'split1_test_score': array([0.71538462]),\n",
       " 'split2_test_score': array([0.76348548]),\n",
       " 'split3_test_score': array([0.71984436]),\n",
       " 'split4_test_score': array([0.73106061]),\n",
       " 'split5_test_score': array([0.65156794]),\n",
       " 'split6_test_score': array([0.72834646]),\n",
       " 'split7_test_score': array([0.7372549]),\n",
       " 'split8_test_score': array([0.736]),\n",
       " 'split9_test_score': array([0.70188679]),\n",
       " 'mean_test_score': array([0.71848264]),\n",
       " 'std_test_score': array([0.02836797]),\n",
       " 'rank_test_score': array([1], dtype=int32),\n",
       " 'split0_train_score': array([0.71665957]),\n",
       " 'split1_train_score': array([0.71544024]),\n",
       " 'split2_train_score': array([0.71611253]),\n",
       " 'split3_train_score': array([0.71887035]),\n",
       " 'split4_train_score': array([0.71307301]),\n",
       " 'split5_train_score': array([0.72167593]),\n",
       " 'split6_train_score': array([0.71887035]),\n",
       " 'split7_train_score': array([0.7133758]),\n",
       " 'split8_train_score': array([0.71972614]),\n",
       " 'split9_train_score': array([0.7177626]),\n",
       " 'mean_train_score': array([0.71715665]),\n",
       " 'std_train_score': array([0.00261766])}"
      ]
     },
     "execution_count": 197,
     "metadata": {},
     "output_type": "execute_result"
    }
   ],
   "source": [
    "grid = GridSearchCV(estimator=pipeline_clf_oversample,\n",
    "                    param_grid = {},\n",
    "                    scoring='precision',\n",
    "                    cv=kf,\n",
    "                    return_train_score=True)\n",
    "\n",
    "grid.fit(X, y);\n",
    "grid.cv_results_"
   ]
  },
  {
   "cell_type": "code",
   "execution_count": 204,
   "metadata": {},
   "outputs": [
    {
     "data": {
      "text/plain": [
       "0.8869925306706916"
      ]
     },
     "execution_count": 204,
     "metadata": {},
     "output_type": "execute_result"
    }
   ],
   "source": [
    "X_train, X_test, y_train, y_test = train_test_split(X, y, test_size=0.2)\n",
    "\n",
    "\n",
    "#X_train, y_train = SMOTE().fit_resample(X_train, y_train)\n",
    "y_pred = clf.fit(X_train, y_train).predict(X_test)\n",
    "\n",
    "f1_score(y_test, y_pred, average='macro')"
   ]
  },
  {
   "cell_type": "code",
   "execution_count": 210,
   "metadata": {},
   "outputs": [
    {
     "ename": "TypeError",
     "evalue": "'StratifiedKFold' object is not iterable",
     "output_type": "error",
     "traceback": [
      "\u001b[0;31m---------------------------------------------------------------------------\u001b[0m",
      "\u001b[0;31mTypeError\u001b[0m                                 Traceback (most recent call last)",
      "\u001b[0;32m<ipython-input-210-24662839486e>\u001b[0m in \u001b[0;36m<module>\u001b[0;34m\u001b[0m\n\u001b[0;32m----> 1\u001b[0;31m \u001b[0;32mfor\u001b[0m \u001b[0mi\u001b[0m \u001b[0;32min\u001b[0m \u001b[0mkf\u001b[0m\u001b[0;34m:\u001b[0m\u001b[0;34m\u001b[0m\u001b[0;34m\u001b[0m\u001b[0m\n\u001b[0m\u001b[1;32m      2\u001b[0m     \u001b[0mprint\u001b[0m\u001b[0;34m(\u001b[0m\u001b[0mi\u001b[0m\u001b[0;34m)\u001b[0m\u001b[0;34m\u001b[0m\u001b[0;34m\u001b[0m\u001b[0m\n",
      "\u001b[0;31mTypeError\u001b[0m: 'StratifiedKFold' object is not iterable"
     ]
    }
   ],
   "source": []
  },
  {
   "cell_type": "code",
   "execution_count": null,
   "metadata": {},
   "outputs": [],
   "source": []
  }
 ],
 "metadata": {
  "kernelspec": {
   "display_name": "Python 3",
   "language": "python",
   "name": "python3"
  },
  "language_info": {
   "codemirror_mode": {
    "name": "ipython",
    "version": 3
   },
   "file_extension": ".py",
   "mimetype": "text/x-python",
   "name": "python",
   "nbconvert_exporter": "python",
   "pygments_lexer": "ipython3",
   "version": "3.6.7"
  }
 },
 "nbformat": 4,
 "nbformat_minor": 2
}
